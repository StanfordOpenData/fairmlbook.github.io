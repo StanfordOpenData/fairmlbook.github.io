{
 "cells": [
  {
   "cell_type": "markdown",
   "metadata": {},
   "source": [
    "# UCI adult data set"
   ]
  },
  {
   "cell_type": "code",
   "execution_count": 1,
   "metadata": {},
   "outputs": [],
   "source": [
    "%matplotlib inline\n",
    "\n",
    "import pandas as pd\n",
    "import pylab\n",
    "import numpy as np\n",
    "import sklearn\n",
    "from sklearn import linear_model\n",
    "import sklearn.preprocessing as preprocessing\n",
    "import sklearn.metrics as metrics\n",
    "import matplotlib.pyplot as plt\n",
    "from statsmodels.stats import proportion"
   ]
  },
  {
   "cell_type": "code",
   "execution_count": 2,
   "metadata": {},
   "outputs": [
    {
     "data": {
      "text/plain": [
       "'0.23.1'"
      ]
     },
     "execution_count": 2,
     "metadata": {},
     "output_type": "execute_result"
    }
   ],
   "source": [
    "pd.__version__"
   ]
  },
  {
   "cell_type": "markdown",
   "metadata": {},
   "source": [
    "## Preprocess UCI adult data\n",
    "\n",
    "This requires downloading the UCI data [here](https://archive.ics.uci.edu/ml/machine-learning-databases/adult/)."
   ]
  },
  {
   "cell_type": "code",
   "execution_count": 3,
   "metadata": {},
   "outputs": [],
   "source": [
    "# Source: https://www.valentinmihov.com/2015/04/17/adult-income-data-set/\n",
    "\n",
    "features = [\"Age\", \"Workclass\", \"fnlwgt\", \"Education\", \"Education-Num\", \"Martial Status\",\n",
    "        \"Occupation\", \"Relationship\", \"Race\", \"Sex\", \"Capital Gain\", \"Capital Loss\",\n",
    "        \"Hours per week\", \"Country\", \"Target\"] \n",
    "\n",
    "# Change these to local file if available\n",
    "train_url = 'https://archive.ics.uci.edu/ml/machine-learning-databases/adult/adult.data'\n",
    "test_url = 'https://archive.ics.uci.edu/ml/machine-learning-databases/adult/adult.test'\n",
    "\n",
    "# This will download 3.8M\n",
    "original_train = pd.read_csv(train_url, names=features, sep=r'\\s*,\\s*', \n",
    "                             engine='python', na_values=\"?\")\n",
    "# This will download 1.9M\n",
    "original_test = pd.read_csv(test_url, names=features, sep=r'\\s*,\\s*', \n",
    "                            engine='python', na_values=\"?\", skiprows=1)\n",
    "\n",
    "num_train = len(original_train)\n",
    "original = pd.concat([original_train, original_test])\n",
    "roc_original = original\n",
    "labels = original['Target']\n",
    "labels = labels.replace('<=50K', 0).replace('>50K', 1)\n",
    "labels = labels.replace('<=50K.', 0).replace('>50K.', 1)"
   ]
  },
  {
   "cell_type": "code",
   "execution_count": 4,
   "metadata": {},
   "outputs": [],
   "source": [
    "# Redundant column\n",
    "del original[\"Education\"]\n",
    "\n",
    "# Remove target variable\n",
    "del original[\"Target\"]\n",
    "\n",
    "def data_transform(df):\n",
    "    \"\"\"Normalize features.\"\"\"\n",
    "    binary_data = pd.get_dummies(df)\n",
    "    feature_cols = binary_data[binary_data.columns[:-2]]\n",
    "    scaler = preprocessing.StandardScaler()\n",
    "    data = pd.DataFrame(scaler.fit_transform(feature_cols), columns=feature_cols.columns)\n",
    "    return data\n",
    "\n",
    "data = data_transform(original)\n",
    "train_data = data[:num_train]\n",
    "train_labels = labels[:num_train]\n",
    "test_data = data[num_train:]\n",
    "test_labels = labels[num_train:]"
   ]
  },
  {
   "cell_type": "markdown",
   "metadata": {},
   "source": [
    "## Logistic regression model"
   ]
  },
  {
   "cell_type": "code",
   "execution_count": 5,
   "metadata": {},
   "outputs": [
    {
     "data": {
      "text/plain": [
       "LogisticRegression(C=1.0, class_weight=None, dual=False, fit_intercept=True,\n",
       "          intercept_scaling=1, max_iter=100, multi_class='ovr', n_jobs=1,\n",
       "          penalty='l2', random_state=None, solver='liblinear', tol=0.0001,\n",
       "          verbose=0, warm_start=False)"
      ]
     },
     "execution_count": 5,
     "metadata": {},
     "output_type": "execute_result"
    }
   ],
   "source": [
    "cls = linear_model.LogisticRegression()\n",
    "cls.fit(train_data, train_labels)"
   ]
  },
  {
   "cell_type": "markdown",
   "metadata": {},
   "source": [
    "### Marginal table\n",
    "\n",
    "Let's create a marginal table of the attributes we're interested in: target, score, prediction, race, gender."
   ]
  },
  {
   "cell_type": "code",
   "execution_count": 6,
   "metadata": {},
   "outputs": [
    {
     "name": "stderr",
     "output_type": "stream",
     "text": [
      "/home/mrtz/.local/lib/python3.5/site-packages/ipykernel_launcher.py:4: FutureWarning: Method .as_matrix will be removed in a future version. Use .values instead.\n",
      "  after removing the cwd from sys.path.\n"
     ]
    },
    {
     "data": {
      "text/html": [
       "<div>\n",
       "<style scoped>\n",
       "    .dataframe tbody tr th:only-of-type {\n",
       "        vertical-align: middle;\n",
       "    }\n",
       "\n",
       "    .dataframe tbody tr th {\n",
       "        vertical-align: top;\n",
       "    }\n",
       "\n",
       "    .dataframe thead th {\n",
       "        text-align: right;\n",
       "    }\n",
       "</style>\n",
       "<table border=\"1\" class=\"dataframe\">\n",
       "  <thead>\n",
       "    <tr style=\"text-align: right;\">\n",
       "      <th></th>\n",
       "      <th>target</th>\n",
       "      <th>score</th>\n",
       "      <th>prediction</th>\n",
       "      <th>race</th>\n",
       "      <th>gender</th>\n",
       "    </tr>\n",
       "  </thead>\n",
       "  <tbody>\n",
       "    <tr>\n",
       "      <th>0</th>\n",
       "      <td>0</td>\n",
       "      <td>0.002771</td>\n",
       "      <td>0</td>\n",
       "      <td>Black</td>\n",
       "      <td>Male</td>\n",
       "    </tr>\n",
       "    <tr>\n",
       "      <th>1</th>\n",
       "      <td>0</td>\n",
       "      <td>0.117784</td>\n",
       "      <td>0</td>\n",
       "      <td>White</td>\n",
       "      <td>Male</td>\n",
       "    </tr>\n",
       "    <tr>\n",
       "      <th>2</th>\n",
       "      <td>1</td>\n",
       "      <td>0.456686</td>\n",
       "      <td>0</td>\n",
       "      <td>White</td>\n",
       "      <td>Male</td>\n",
       "    </tr>\n",
       "    <tr>\n",
       "      <th>3</th>\n",
       "      <td>1</td>\n",
       "      <td>0.754575</td>\n",
       "      <td>1</td>\n",
       "      <td>Black</td>\n",
       "      <td>Male</td>\n",
       "    </tr>\n",
       "    <tr>\n",
       "      <th>4</th>\n",
       "      <td>0</td>\n",
       "      <td>0.001230</td>\n",
       "      <td>0</td>\n",
       "      <td>White</td>\n",
       "      <td>Female</td>\n",
       "    </tr>\n",
       "  </tbody>\n",
       "</table>\n",
       "</div>"
      ],
      "text/plain": [
       "   target     score  prediction   race  gender\n",
       "0       0  0.002771           0  Black    Male\n",
       "1       0  0.117784           0  White    Male\n",
       "2       1  0.456686           0  White    Male\n",
       "3       1  0.754575           1  Black    Male\n",
       "4       0  0.001230           0  White  Female"
      ]
     },
     "execution_count": 6,
     "metadata": {},
     "output_type": "execute_result"
    }
   ],
   "source": [
    "predictions = cls.predict(test_data)\n",
    "scores = cls.predict_proba(test_data)[:, 1]\n",
    "\n",
    "d = {'target' : test_labels.as_matrix(),\n",
    "     'score' : scores,\n",
    "     'prediction' : predictions,\n",
    "     'race' : original_test['Race'],\n",
    "     'gender' : original_test['Sex']}\n",
    "\n",
    "marginals = pd.DataFrame(data=d, columns=['target', 'score', 'prediction', 'race', 'gender'])\n",
    "marginals.head()"
   ]
  },
  {
   "cell_type": "markdown",
   "metadata": {},
   "source": [
    "### Calibration values"
   ]
  },
  {
   "cell_type": "code",
   "execution_count": 7,
   "metadata": {},
   "outputs": [],
   "source": [
    "def score_range(p, q, df):\n",
    "    \"\"\"Returns number of success and observations for given bucket.\"\"\"\n",
    "    gp = df[df['score'] > p]\n",
    "    lq = gp[gp['score'] <= q]\n",
    "    return [sum(lq['target']), len(lq['target'])]\n",
    "\n",
    "def get_frequencies(marginals, num_buckets=10):\n",
    "    \"\"\"Returns list of lists. The first list is successes \n",
    "    for all buckets, the second one is total counts.\"\"\"\n",
    "    ts = np.linspace(0, 1, num_buckets+1)\n",
    "    frequencies = [[],[]]\n",
    "    for i in range(num_buckets):\n",
    "        b = score_range(ts[i], ts[i+1], marginals)\n",
    "        frequencies[0].append(b[0])\n",
    "        frequencies[1].append(b[1])\n",
    "    return frequencies\n",
    "\n",
    "def plot_confidence(plt, xs, n_succs, n_obss, label, linestyle, color, confidence=0.95):\n",
    "    \"\"\"Plot a graph with confidence intervals where\n",
    "       each x corresponds to a binomial random variable in which n_obs observations led to n_succ successes\"\"\"\n",
    "    n_succs, n_obss = np.array(n_succs), np.array(n_obss)\n",
    "    conf_lbs, conf_ubs = proportion.proportion_confint(n_succs, n_obss, alpha=1-confidence)\n",
    "    pylab.fill_between(xs, conf_ubs, conf_lbs, alpha=.2, color=color)\n",
    "    pylab.plot(xs, n_succs / n_obss, '.-', label=label, linestyle=linestyle, color=color)"
   ]
  },
  {
   "cell_type": "markdown",
   "metadata": {},
   "source": [
    "#### By group"
   ]
  },
  {
   "cell_type": "code",
   "execution_count": 35,
   "metadata": {},
   "outputs": [],
   "source": [
    "races = ['White', 'Black']\n",
    "styles = ['-', '--']\n",
    "colors = ['g', 'b']\n",
    "deciles = range(1, 10+1)\n",
    "pylab.rc('font',  size='17')\n",
    "pylab.rc('axes', labelsize='large')\n",
    "pylab.rc('lines', linewidth=3)"
   ]
  },
  {
   "cell_type": "code",
   "execution_count": 36,
   "metadata": {},
   "outputs": [
    {
     "data": {
      "image/png": "[encoded data removed]",
      "text/plain": [
       "<Figure size 432x360 with 1 Axes>"
      ]
     },
     "metadata": {},
     "output_type": "display_data"
    }
   ],
   "source": [
    "pylab.figure(1, figsize=(6, 5))\n",
    "pylab.title('Calibration')\n",
    "\n",
    "for i in range(2):\n",
    "    race = races[i]\n",
    "    num = get_frequencies(marginals[marginals['race']== race])\n",
    "    plot_confidence(plt, deciles, num[0], num[1], race, styles[i], colors[i])\n",
    "\n",
    "pylab.legend(title=\"Race\")\n",
    "pylab.ylabel('Rate of positive outcomes')\n",
    "pylab.xlabel('Score decile')\n",
    "pylab.tight_layout()\n",
    "pylab.savefig('../figures/adult_calibration_race.svg')\n",
    "pylab.savefig('../figures/adult_calibration_race.pdf')"
   ]
  },
  {
   "cell_type": "markdown",
   "metadata": {},
   "source": [
    "#### By race"
   ]
  },
  {
   "cell_type": "code",
   "execution_count": 37,
   "metadata": {},
   "outputs": [
    {
     "data": {
      "image/png": "[encoded data removed]",
      "text/plain": [
       "<Figure size 432x360 with 1 Axes>"
      ]
     },
     "metadata": {},
     "output_type": "display_data"
    }
   ],
   "source": [
    "genders = ['Female', 'Male']\n",
    "pylab.figure(2, figsize=(6, 5))\n",
    "pylab.title('Calibration')\n",
    "\n",
    "for i in range(2):\n",
    "    gender = genders[i]\n",
    "    num = get_frequencies(marginals[marginals['gender']== gender])\n",
    "    plot_confidence(plt, deciles, num[0], num[1], gender, styles[i], colors[i])\n",
    "    \n",
    "plt.legend(title=\"Gender\")\n",
    "pylab.ylabel('Rate of positive outcomes')\n",
    "pylab.xlabel('Score decile')\n",
    "pylab.tight_layout()\n",
    "pylab.savefig('../figures/adult_calibration_gender.svg')\n",
    "pylab.savefig('../figures/adult_calibration_gender.pdf')\n",
    "pylab.show()\n",
    "pylab.close()"
   ]
  },
  {
   "cell_type": "markdown",
   "metadata": {},
   "source": [
    "#### Sample sizes"
   ]
  },
  {
   "cell_type": "code",
   "execution_count": 10,
   "metadata": {},
   "outputs": [
    {
     "data": {
      "text/plain": [
       "(1561, 13946, 10860, 5421)"
      ]
     },
     "execution_count": 10,
     "metadata": {},
     "output_type": "execute_result"
    }
   ],
   "source": [
    "(len(original_test[original_test['Race']=='Black']),\n",
    "len(original_test[original_test['Race']=='White']),\n",
    "len(original_test[original_test['Sex']=='Male']),\n",
    "len(original_test[original_test['Sex']=='Female']))"
   ]
  },
  {
   "cell_type": "markdown",
   "metadata": {},
   "source": [
    "The deviation in the calibration plot by race in the 6th decile could be due to a lack of data in this range."
   ]
  },
  {
   "cell_type": "code",
   "execution_count": 11,
   "metadata": {},
   "outputs": [],
   "source": [
    "def testrange(p, q, df):\n",
    "    \"\"\"Returns individuals in dataframe with p < score <= q.\"\"\"\n",
    "    gp = df[df['score'] > p]\n",
    "    return gp[gp['score'] <= q]"
   ]
  },
  {
   "cell_type": "code",
   "execution_count": 12,
   "metadata": {},
   "outputs": [
    {
     "data": {
      "text/plain": [
       "array([0. , 0.1, 0.2, 0.3, 0.4, 0.5, 0.6, 0.7, 0.8, 0.9, 1. ])"
      ]
     },
     "execution_count": 12,
     "metadata": {},
     "output_type": "execute_result"
    }
   ],
   "source": [
    "np.linspace(0, 1, 11)"
   ]
  },
  {
   "cell_type": "code",
   "execution_count": 13,
   "metadata": {},
   "outputs": [
    {
     "name": "stdout",
     "output_type": "stream",
     "text": [
      "Number of instances with race attribute set to 'Black' in 0th decile:  1105\n",
      "Number of instances with race attribute set to 'Black' in 1th decile:  137\n",
      "Number of instances with race attribute set to 'Black' in 2th decile:  96\n",
      "Number of instances with race attribute set to 'Black' in 3th decile:  56\n",
      "Number of instances with race attribute set to 'Black' in 4th decile:  34\n",
      "Number of instances with race attribute set to 'Black' in 5th decile:  34\n",
      "Number of instances with race attribute set to 'Black' in 6th decile:  35\n",
      "Number of instances with race attribute set to 'Black' in 7th decile:  24\n",
      "Number of instances with race attribute set to 'Black' in 8th decile:  9\n",
      "Number of instances with race attribute set to 'Black' in 9th decile:  31\n"
     ]
    }
   ],
   "source": [
    "ts = np.linspace(0, 1, 10+1)\n",
    "for i in range(10):\n",
    "    df = testrange(ts[i], ts[i+1], marginals[marginals['race']=='Black'])\n",
    "    print(\"Number of instances with race attribute set to 'Black' in\", str(i)+\"th decile: \", len(df))"
   ]
  },
  {
   "cell_type": "markdown",
   "metadata": {},
   "source": [
    "There are 1561 total instances where the race attribute is set to \"Black,\" but the majority of those instances fall in the 0 through 2nd deciles."
   ]
  },
  {
   "cell_type": "markdown",
   "metadata": {},
   "source": [
    "### ROC curves"
   ]
  },
  {
   "cell_type": "code",
   "execution_count": 48,
   "metadata": {},
   "outputs": [
    {
     "data": {
      "image/png": "[encoded data removed]",
      "text/plain": [
       "<Figure size 432x360 with 1 Axes>"
      ]
     },
     "metadata": {},
     "output_type": "display_data"
    }
   ],
   "source": [
    "male = marginals[marginals['gender'] == 'Male']\n",
    "fpr_male, tpr_male, _ = metrics.roc_curve(male['target'], male['score'])\n",
    "female = marginals[marginals['gender'] == 'Female']\n",
    "fpr_female, tpr_female, _ = metrics.roc_curve(female['target'], female['score'])\n",
    "white = marginals[marginals['race'] == 'White']\n",
    "fpr_white, tpr_white, _ = metrics.roc_curve(white['target'], white['score'])\n",
    "black = marginals[marginals['race'] == 'Black']\n",
    "fpr_black, tpr_black, _ = metrics.roc_curve(black['target'], black['score'])\n",
    "plt.figure(1, figsize=(6, 5))\n",
    "plt.title('ROC curves by group')\n",
    "plt.xlabel('False positive rate')\n",
    "plt.ylabel('True positive rate')\n",
    "plt.plot(fpr_male, tpr_male, label='male', linestyle='-', color='b')\n",
    "plt.plot(fpr_female, tpr_female, label='female', linestyle='--', color='g')\n",
    "plt.plot(fpr_white, tpr_white, label='white', linestyle='-.', color='c')\n",
    "plt.plot(fpr_black, tpr_black, label='black', linestyle=':', color='r')\n",
    "plt.legend()\n",
    "plt.show()"
   ]
  },
  {
   "cell_type": "markdown",
   "metadata": {
    "collapsed": true
   },
   "source": [
    "Interestingly enough, our logistic regression model has relatively high accuracy for the Black race group. This may be due to the lack of diversity in target values, which allows the model to achieve high accuracy rates by consistently predicting a particular label."
   ]
  },
  {
   "cell_type": "code",
   "execution_count": 23,
   "metadata": {},
   "outputs": [
    {
     "data": {
      "text/html": [
       "<div>\n",
       "<style scoped>\n",
       "    .dataframe tbody tr th:only-of-type {\n",
       "        vertical-align: middle;\n",
       "    }\n",
       "\n",
       "    .dataframe tbody tr th {\n",
       "        vertical-align: top;\n",
       "    }\n",
       "\n",
       "    .dataframe thead th {\n",
       "        text-align: right;\n",
       "    }\n",
       "</style>\n",
       "<table border=\"1\" class=\"dataframe\">\n",
       "  <thead>\n",
       "    <tr style=\"text-align: right;\">\n",
       "      <th></th>\n",
       "      <th>Age</th>\n",
       "      <th>Workclass</th>\n",
       "      <th>fnlwgt</th>\n",
       "      <th>Education</th>\n",
       "      <th>Education-Num</th>\n",
       "      <th>Martial Status</th>\n",
       "      <th>Occupation</th>\n",
       "      <th>Relationship</th>\n",
       "      <th>Race</th>\n",
       "      <th>Sex</th>\n",
       "      <th>Capital Gain</th>\n",
       "      <th>Capital Loss</th>\n",
       "      <th>Hours per week</th>\n",
       "      <th>Country</th>\n",
       "      <th>Target</th>\n",
       "    </tr>\n",
       "  </thead>\n",
       "  <tbody>\n",
       "    <tr>\n",
       "      <th>0</th>\n",
       "      <td>39</td>\n",
       "      <td>State-gov</td>\n",
       "      <td>77516</td>\n",
       "      <td>Bachelors</td>\n",
       "      <td>13</td>\n",
       "      <td>Never-married</td>\n",
       "      <td>Adm-clerical</td>\n",
       "      <td>Not-in-family</td>\n",
       "      <td>White</td>\n",
       "      <td>Male</td>\n",
       "      <td>2174</td>\n",
       "      <td>0</td>\n",
       "      <td>40</td>\n",
       "      <td>United-States</td>\n",
       "      <td>&lt;=50K</td>\n",
       "    </tr>\n",
       "    <tr>\n",
       "      <th>1</th>\n",
       "      <td>50</td>\n",
       "      <td>Self-emp-not-inc</td>\n",
       "      <td>83311</td>\n",
       "      <td>Bachelors</td>\n",
       "      <td>13</td>\n",
       "      <td>Married-civ-spouse</td>\n",
       "      <td>Exec-managerial</td>\n",
       "      <td>Husband</td>\n",
       "      <td>White</td>\n",
       "      <td>Male</td>\n",
       "      <td>0</td>\n",
       "      <td>0</td>\n",
       "      <td>13</td>\n",
       "      <td>United-States</td>\n",
       "      <td>&lt;=50K</td>\n",
       "    </tr>\n",
       "    <tr>\n",
       "      <th>2</th>\n",
       "      <td>38</td>\n",
       "      <td>Private</td>\n",
       "      <td>215646</td>\n",
       "      <td>HS-grad</td>\n",
       "      <td>9</td>\n",
       "      <td>Divorced</td>\n",
       "      <td>Handlers-cleaners</td>\n",
       "      <td>Not-in-family</td>\n",
       "      <td>White</td>\n",
       "      <td>Male</td>\n",
       "      <td>0</td>\n",
       "      <td>0</td>\n",
       "      <td>40</td>\n",
       "      <td>United-States</td>\n",
       "      <td>&lt;=50K</td>\n",
       "    </tr>\n",
       "    <tr>\n",
       "      <th>3</th>\n",
       "      <td>53</td>\n",
       "      <td>Private</td>\n",
       "      <td>234721</td>\n",
       "      <td>11th</td>\n",
       "      <td>7</td>\n",
       "      <td>Married-civ-spouse</td>\n",
       "      <td>Handlers-cleaners</td>\n",
       "      <td>Husband</td>\n",
       "      <td>Black</td>\n",
       "      <td>Male</td>\n",
       "      <td>0</td>\n",
       "      <td>0</td>\n",
       "      <td>40</td>\n",
       "      <td>United-States</td>\n",
       "      <td>&lt;=50K</td>\n",
       "    </tr>\n",
       "    <tr>\n",
       "      <th>4</th>\n",
       "      <td>28</td>\n",
       "      <td>Private</td>\n",
       "      <td>338409</td>\n",
       "      <td>Bachelors</td>\n",
       "      <td>13</td>\n",
       "      <td>Married-civ-spouse</td>\n",
       "      <td>Prof-specialty</td>\n",
       "      <td>Wife</td>\n",
       "      <td>Black</td>\n",
       "      <td>Female</td>\n",
       "      <td>0</td>\n",
       "      <td>0</td>\n",
       "      <td>40</td>\n",
       "      <td>Cuba</td>\n",
       "      <td>&lt;=50K</td>\n",
       "    </tr>\n",
       "  </tbody>\n",
       "</table>\n",
       "</div>"
      ],
      "text/plain": [
       "   Age         Workclass  fnlwgt  Education  Education-Num  \\\n",
       "0   39         State-gov   77516  Bachelors             13   \n",
       "1   50  Self-emp-not-inc   83311  Bachelors             13   \n",
       "2   38           Private  215646    HS-grad              9   \n",
       "3   53           Private  234721       11th              7   \n",
       "4   28           Private  338409  Bachelors             13   \n",
       "\n",
       "       Martial Status         Occupation   Relationship   Race     Sex  \\\n",
       "0       Never-married       Adm-clerical  Not-in-family  White    Male   \n",
       "1  Married-civ-spouse    Exec-managerial        Husband  White    Male   \n",
       "2            Divorced  Handlers-cleaners  Not-in-family  White    Male   \n",
       "3  Married-civ-spouse  Handlers-cleaners        Husband  Black    Male   \n",
       "4  Married-civ-spouse     Prof-specialty           Wife  Black  Female   \n",
       "\n",
       "   Capital Gain  Capital Loss  Hours per week        Country Target  \n",
       "0          2174             0              40  United-States  <=50K  \n",
       "1             0             0              13  United-States  <=50K  \n",
       "2             0             0              40  United-States  <=50K  \n",
       "3             0             0              40  United-States  <=50K  \n",
       "4             0             0              40           Cuba  <=50K  "
      ]
     },
     "execution_count": 23,
     "metadata": {},
     "output_type": "execute_result"
    }
   ],
   "source": [
    "# Our original table\n",
    "\n",
    "roc_original.head()"
   ]
  },
  {
   "cell_type": "code",
   "execution_count": 44,
   "metadata": {},
   "outputs": [
    {
     "data": {
      "text/plain": [
       "array(['<=50K', '>50K', '<=50K.', '>50K.'], dtype=object)"
      ]
     },
     "execution_count": 44,
     "metadata": {},
     "output_type": "execute_result"
    }
   ],
   "source": [
    "# Possible target values\n",
    "\n",
    "roc_original['Target'].unique()"
   ]
  },
  {
   "cell_type": "code",
   "execution_count": 40,
   "metadata": {},
   "outputs": [
    {
     "data": {
      "text/html": [
       "<div>\n",
       "<style scoped>\n",
       "    .dataframe tbody tr th:only-of-type {\n",
       "        vertical-align: middle;\n",
       "    }\n",
       "\n",
       "    .dataframe tbody tr th {\n",
       "        vertical-align: top;\n",
       "    }\n",
       "\n",
       "    .dataframe thead th {\n",
       "        text-align: right;\n",
       "    }\n",
       "</style>\n",
       "<table border=\"1\" class=\"dataframe\">\n",
       "  <thead>\n",
       "    <tr style=\"text-align: right;\">\n",
       "      <th></th>\n",
       "      <th>&lt;=50K</th>\n",
       "      <th>&gt;50K</th>\n",
       "    </tr>\n",
       "  </thead>\n",
       "  <tbody>\n",
       "    <tr>\n",
       "      <th>Black</th>\n",
       "      <td>0.879189</td>\n",
       "      <td>0.120811</td>\n",
       "    </tr>\n",
       "    <tr>\n",
       "      <th>White</th>\n",
       "      <td>0.746013</td>\n",
       "      <td>0.253987</td>\n",
       "    </tr>\n",
       "  </tbody>\n",
       "</table>\n",
       "</div>"
      ],
      "text/plain": [
       "          <=50K      >50K\n",
       "Black  0.879189  0.120811\n",
       "White  0.746013  0.253987"
      ]
     },
     "execution_count": 40,
     "metadata": {},
     "output_type": "execute_result"
    }
   ],
   "source": [
    "total_black = len(roc_original[roc_original['Race']=='Black'])\n",
    "total_white = len(roc_original[roc_original['Race']=='White'])\n",
    "total_male = len(roc_original[roc_original['Sex']=='Male'])\n",
    "total_female = len(roc_original[roc_original['Sex']=='Female'])\n",
    "black = roc_original[roc_original['Race']=='Black']\n",
    "white = roc_original[roc_original['Race']=='White']\n",
    "male = roc_original[roc_original['Sex']=='Male']\n",
    "female = roc_original[roc_original['Sex']=='Female']\n",
    "\n",
    "# Race\n",
    "\n",
    "black_less50K = len(black[(black.Target == '<=50K') | (black.Target == '<=50K.')])/total_black\n",
    "black_greater50K = len(black[(black.Target == '>50K') | (black.Target == '>50K.')])/total_black\n",
    "white_less50K = len(white[(white.Target == '<=50K') | (white.Target == '<=50K.')])/total_white\n",
    "white_greater50K = len(white[(white.Target == '>50K') | (white.Target == '>50K.')])/total_white\n",
    "\n",
    "target_percent = pd.DataFrame({'<=50K': [black_less50K, white_less50K], '>50K': [black_greater50K, white_greater50K]}, index=['Black', 'White'])\n",
    "target_percent"
   ]
  },
  {
   "cell_type": "code",
   "execution_count": 42,
   "metadata": {},
   "outputs": [
    {
     "data": {
      "text/html": [
       "<div>\n",
       "<style scoped>\n",
       "    .dataframe tbody tr th:only-of-type {\n",
       "        vertical-align: middle;\n",
       "    }\n",
       "\n",
       "    .dataframe tbody tr th {\n",
       "        vertical-align: top;\n",
       "    }\n",
       "\n",
       "    .dataframe thead th {\n",
       "        text-align: right;\n",
       "    }\n",
       "</style>\n",
       "<table border=\"1\" class=\"dataframe\">\n",
       "  <thead>\n",
       "    <tr style=\"text-align: right;\">\n",
       "      <th></th>\n",
       "      <th>&lt;=50K</th>\n",
       "      <th>&gt;50K</th>\n",
       "    </tr>\n",
       "  </thead>\n",
       "  <tbody>\n",
       "    <tr>\n",
       "      <th>Female</th>\n",
       "      <td>0.890749</td>\n",
       "      <td>0.109251</td>\n",
       "    </tr>\n",
       "    <tr>\n",
       "      <th>Male</th>\n",
       "      <td>0.696233</td>\n",
       "      <td>0.303767</td>\n",
       "    </tr>\n",
       "  </tbody>\n",
       "</table>\n",
       "</div>"
      ],
      "text/plain": [
       "           <=50K      >50K\n",
       "Female  0.890749  0.109251\n",
       "Male    0.696233  0.303767"
      ]
     },
     "execution_count": 42,
     "metadata": {},
     "output_type": "execute_result"
    }
   ],
   "source": [
    "# Gender\n",
    "\n",
    "female_less50K = len(female[(female.Target == '<=50K') | (female.Target == '<=50K.')])/total_female\n",
    "female_greater50K = len(female[(female.Target == '>50K') | (female.Target == '>50K.')])/total_female\n",
    "male_less50K = len(male[(male.Target == '<=50K') | (male.Target == '<=50K.')])/total_male\n",
    "male_greater50K = len(male[(male.Target == '>50K') | (male.Target == '>50K.')])/total_male\n",
    "\n",
    "target_percent = pd.DataFrame({'<=50K': [female_less50K, male_less50K], '>50K': [female_greater50K, male_greater50K]}, index=['Female', 'Male'])\n",
    "target_percent"
   ]
  },
  {
   "cell_type": "markdown",
   "metadata": {},
   "source": [
    "In our original data, we can see that the male gender group has the most variability in income levels and the lowest accuracy of all the groups."
   ]
  },
  {
   "cell_type": "code",
   "execution_count": null,
   "metadata": {},
   "outputs": [],
   "source": []
  }
 ],
 "metadata": {
  "kernelspec": {
   "display_name": "Python 3",
   "language": "python",
   "name": "python3"
  },
  "language_info": {
   "codemirror_mode": {
    "name": "ipython",
    "version": 3
   },
   "file_extension": ".py",
   "mimetype": "text/x-python",
   "name": "python",
   "nbconvert_exporter": "python",
   "pygments_lexer": "ipython3",
   "version": "3.5.2"
  }
 },
 "nbformat": 4,
 "nbformat_minor": 2
}
